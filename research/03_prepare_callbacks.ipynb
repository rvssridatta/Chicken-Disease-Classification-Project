{
 "cells": [
  {
   "cell_type": "code",
   "execution_count": 20,
   "metadata": {},
   "outputs": [],
   "source": [
    "import os"
   ]
  },
  {
   "cell_type": "code",
   "execution_count": 21,
   "metadata": {},
   "outputs": [
    {
     "data": {
      "text/plain": [
       "'c:\\\\Users\\\\rvssr\\\\Chicken-Disease-Prediction\\\\Chicken-Disease-Classification-Project'"
      ]
     },
     "execution_count": 21,
     "metadata": {},
     "output_type": "execute_result"
    }
   ],
   "source": [
    "%pwd"
   ]
  },
  {
   "cell_type": "code",
   "execution_count": 3,
   "metadata": {},
   "outputs": [],
   "source": [
    "os.chdir(\"../\")"
   ]
  },
  {
   "cell_type": "code",
   "execution_count": 4,
   "metadata": {},
   "outputs": [
    {
     "data": {
      "text/plain": [
       "'c:\\\\Users\\\\rvssr\\\\Chicken-Disease-Prediction\\\\Chicken-Disease-Classification-Project'"
      ]
     },
     "execution_count": 4,
     "metadata": {},
     "output_type": "execute_result"
    }
   ],
   "source": [
    "%pwd"
   ]
  },
  {
   "cell_type": "code",
   "execution_count": 22,
   "metadata": {},
   "outputs": [],
   "source": [
    "#initialize the entity\n",
    "\n",
    "from dataclasses import dataclass\n",
    "from pathlib import Path\n",
    "\n",
    "@dataclass(frozen=True)\n",
    "class PrepareCallbacksConfig:\n",
    "    root_dir: Path\n",
    "    tensorboard_root_log_dir: Path\n",
    "    checkpoint_model_filepath: Path"
   ]
  },
  {
   "cell_type": "code",
   "execution_count": 23,
   "metadata": {},
   "outputs": [],
   "source": [
    "from src.cnnClassifier.constants import *\n",
    "from src.cnnClassifier.utils.common import read_yaml, create_directories"
   ]
  },
  {
   "cell_type": "code",
   "execution_count": 30,
   "metadata": {},
   "outputs": [],
   "source": [
    "class ConfigurationManager:\n",
    "    def __init_(\n",
    "            self,\n",
    "            config_filepath = CONFIG_FILE_PATH,\n",
    "            params_filepath = PARAMS_FILE_PATH):\n",
    "            self.config_ = read_yaml(config_filepath)\n",
    "            print(self.config_)\n",
    "            self.params = read_yaml(params_filepath)\n",
    "            create_directories([self.config.artifacts_root])\n",
    "\n",
    "    def get_prepare_callback_config(self) -> PrepareCallbacksConfig:\n",
    "        config = self.config_.prepare_callbacks\n",
    "        model_ckpt_dir = os.path.dirname(config.checkpoint_model_filepath)\n",
    "        create_directories([\n",
    "            Path(model_ckpt_dir),\n",
    "            Path(config.tensorboard_root_log_dir)\n",
    "        ])\n",
    "\n",
    "        prepare_callback_config = PrepareCallbacksConfig(\n",
    "            root_dir=Path(config.root_dir),\n",
    "            tensorboard_root_log_dir=Path(config.tensorboard_root_log_dir),\n",
    "            checkpoint_model_filepath=Path(config.checkpoint_model_filepath)\n",
    "        )\n",
    "\n",
    "        return prepare_callback_config"
   ]
  },
  {
   "cell_type": "code",
   "execution_count": 31,
   "metadata": {},
   "outputs": [],
   "source": [
    "import os\n",
    "import urllib.request as request\n",
    "from zipfile import ZipFile\n",
    "import tensorflow as tf\n",
    "import time"
   ]
  },
  {
   "cell_type": "code",
   "execution_count": 32,
   "metadata": {},
   "outputs": [],
   "source": [
    "class PrepareCallback:\n",
    "    def __init_(self,config: PrepareCallbacksConfig):\n",
    "        self.config = config\n",
    "    \n",
    "    @property\n",
    "    def _create_tb_callbacks(self):\n",
    "        timestamp = time.strftime(\"%Y-%m-%d-%H-%M-%S\")\n",
    "        tb_running_log_dir = os.path.join(\n",
    "            self.config.tensorboard_root_log_dir,\n",
    "            f\"tb_logs_at_{timestamp}\"\n",
    "        )\n",
    "        return tf.keras.callbacks.TensorBoard(log_dir=tb_running_log_dir)\n",
    "    \n",
    "    @property\n",
    "    def _create_ckpt_callbacks(self):\n",
    "        return tf.keras.callbacks.ModelCheckpoint(\n",
    "            filepath=self.config.checkpoint_model_filepath,\n",
    "            save_best_only=True\n",
    "        )\n",
    "    \n",
    "    def get_tb_ckpt_callbacks(self):\n",
    "        return[\n",
    "            self._create_tb_callbacks,\n",
    "            self._create_ckpt_callbacks\n",
    "        ]\n"
   ]
  },
  {
   "cell_type": "code",
   "execution_count": 33,
   "metadata": {},
   "outputs": [
    {
     "ename": "AttributeError",
     "evalue": "'ConfigurationManager' object has no attribute 'config_'",
     "output_type": "error",
     "traceback": [
      "\u001b[1;31m---------------------------------------------------------------------------\u001b[0m",
      "\u001b[1;31mAttributeError\u001b[0m                            Traceback (most recent call last)",
      "Cell \u001b[1;32mIn[33], line 2\u001b[0m\n\u001b[0;32m      1\u001b[0m config \u001b[39m=\u001b[39m ConfigurationManager()\n\u001b[1;32m----> 2\u001b[0m preparpe_callbacks_config \u001b[39m=\u001b[39m config\u001b[39m.\u001b[39;49mget_prepare_callback_config()\n\u001b[0;32m      3\u001b[0m prepare_callbacks \u001b[39m=\u001b[39m PrepareCallback(config\u001b[39m=\u001b[39mprepare_callbacks_config)\n\u001b[0;32m      4\u001b[0m callback_list \u001b[39m=\u001b[39m prepare_callbacks\u001b[39m.\u001b[39mget_tb_ckpt_callbacks()\n",
      "Cell \u001b[1;32mIn[30], line 11\u001b[0m, in \u001b[0;36mConfigurationManager.get_prepare_callback_config\u001b[1;34m(self)\u001b[0m\n\u001b[0;32m     10\u001b[0m \u001b[39mdef\u001b[39;00m \u001b[39mget_prepare_callback_config\u001b[39m(\u001b[39mself\u001b[39m) \u001b[39m-\u001b[39m\u001b[39m>\u001b[39m PrepareCallbacksConfig:\n\u001b[1;32m---> 11\u001b[0m     config \u001b[39m=\u001b[39m \u001b[39mself\u001b[39;49m\u001b[39m.\u001b[39;49mconfig_\u001b[39m.\u001b[39mprepare_callbacks\n\u001b[0;32m     12\u001b[0m     model_ckpt_dir \u001b[39m=\u001b[39m os\u001b[39m.\u001b[39mpath\u001b[39m.\u001b[39mdirname(config\u001b[39m.\u001b[39mcheckpoint_model_filepath)\n\u001b[0;32m     13\u001b[0m     create_directories([\n\u001b[0;32m     14\u001b[0m         Path(model_ckpt_dir),\n\u001b[0;32m     15\u001b[0m         Path(config\u001b[39m.\u001b[39mtensorboard_root_log_dir)\n\u001b[0;32m     16\u001b[0m     ])\n",
      "\u001b[1;31mAttributeError\u001b[0m: 'ConfigurationManager' object has no attribute 'config_'"
     ]
    }
   ],
   "source": [
    "config = ConfigurationManager()\n",
    "preparpe_callbacks_config = config.get_prepare_callback_config()\n",
    "prepare_callbacks = PrepareCallback(config=prepare_callbacks_config)\n",
    "callback_list = prepare_callbacks.get_tb_ckpt_callbacks()"
   ]
  },
  {
   "cell_type": "code",
   "execution_count": 27,
   "metadata": {},
   "outputs": [
    {
     "ename": "AttributeError",
     "evalue": "'ConfigurationManager' object has no attribute 'config'",
     "output_type": "error",
     "traceback": [
      "\u001b[1;31m---------------------------------------------------------------------------\u001b[0m",
      "\u001b[1;31mAttributeError\u001b[0m                            Traceback (most recent call last)",
      "Cell \u001b[1;32mIn[27], line 7\u001b[0m\n\u001b[0;32m      5\u001b[0m     callback_list \u001b[39m=\u001b[39m prepare_callbacks\u001b[39m.\u001b[39mget_tb_ckpt_callbacks()\n\u001b[0;32m      6\u001b[0m \u001b[39mexcept\u001b[39;00m \u001b[39mException\u001b[39;00m \u001b[39mas\u001b[39;00m e:\n\u001b[1;32m----> 7\u001b[0m     \u001b[39mraise\u001b[39;00m e\n",
      "Cell \u001b[1;32mIn[27], line 3\u001b[0m\n\u001b[0;32m      1\u001b[0m \u001b[39mtry\u001b[39;00m:\n\u001b[0;32m      2\u001b[0m     config \u001b[39m=\u001b[39m ConfigurationManager()\n\u001b[1;32m----> 3\u001b[0m     preparpe_callbacks_config \u001b[39m=\u001b[39m config\u001b[39m.\u001b[39;49mget_prepare_callback_config()\n\u001b[0;32m      4\u001b[0m     prepare_callbacks \u001b[39m=\u001b[39m PrepareCallback(config\u001b[39m=\u001b[39mpreparpe_callbacks_config)\n\u001b[0;32m      5\u001b[0m     callback_list \u001b[39m=\u001b[39m prepare_callbacks\u001b[39m.\u001b[39mget_tb_ckpt_callbacks()\n",
      "Cell \u001b[1;32mIn[24], line 11\u001b[0m, in \u001b[0;36mConfigurationManager.get_prepare_callback_config\u001b[1;34m(self)\u001b[0m\n\u001b[0;32m     10\u001b[0m \u001b[39mdef\u001b[39;00m \u001b[39mget_prepare_callback_config\u001b[39m(\u001b[39mself\u001b[39m) \u001b[39m-\u001b[39m\u001b[39m>\u001b[39m PrepareCallbacksConfig:\n\u001b[1;32m---> 11\u001b[0m     config \u001b[39m=\u001b[39m \u001b[39mself\u001b[39;49m\u001b[39m.\u001b[39;49mconfig\u001b[39m.\u001b[39mprepare_callbacks\n\u001b[0;32m     12\u001b[0m     model_ckpt_dir \u001b[39m=\u001b[39m os\u001b[39m.\u001b[39mpath\u001b[39m.\u001b[39mdirname(config\u001b[39m.\u001b[39mcheckpoint_model_filepath)\n\u001b[0;32m     13\u001b[0m     create_directories([\n\u001b[0;32m     14\u001b[0m         Path(model_ckpt_dir),\n\u001b[0;32m     15\u001b[0m         Path(config\u001b[39m.\u001b[39mtensorboard_root_log_dir)\n\u001b[0;32m     16\u001b[0m     ])\n",
      "\u001b[1;31mAttributeError\u001b[0m: 'ConfigurationManager' object has no attribute 'config'"
     ]
    }
   ],
   "source": [
    "try:\n",
    "    config = ConfigurationManager()\n",
    "    preparpe_callbacks_config = config.get_prepare_callback_config()\n",
    "    prepare_callbacks = PrepareCallback(config=prepare_callbacks_config)\n",
    "    callback_list = prepare_callbacks.get_tb_ckpt_callbacks()\n",
    "except Exception as e:\n",
    "    raise e"
   ]
  },
  {
   "cell_type": "code",
   "execution_count": null,
   "metadata": {},
   "outputs": [],
   "source": []
  }
 ],
 "metadata": {
  "kernelspec": {
   "display_name": "chicken",
   "language": "python",
   "name": "python3"
  },
  "language_info": {
   "codemirror_mode": {
    "name": "ipython",
    "version": 3
   },
   "file_extension": ".py",
   "mimetype": "text/x-python",
   "name": "python",
   "nbconvert_exporter": "python",
   "pygments_lexer": "ipython3",
   "version": "3.8.17"
  },
  "orig_nbformat": 4
 },
 "nbformat": 4,
 "nbformat_minor": 2
}
